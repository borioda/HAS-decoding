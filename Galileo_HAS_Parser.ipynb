{
 "cells": [
  {
   "cell_type": "markdown",
   "id": "d456bc28",
   "metadata": {},
   "source": [
    "# Galileo HAS Parser (GHASP) #"
   ]
  },
  {
   "cell_type": "markdown",
   "id": "32e829e2",
   "metadata": {},
   "source": [
    "### Import libraries ###"
   ]
  },
  {
   "cell_type": "code",
   "execution_count": 1,
   "id": "3f2771f7",
   "metadata": {},
   "outputs": [],
   "source": [
    "# Some widgets\n",
    "import has_widgets as hw\n",
    "from ipyfilechooser import FileChooser"
   ]
  },
  {
   "cell_type": "markdown",
   "id": "6e4e4f62",
   "metadata": {},
   "source": [
    "### Open the input type file ###"
   ]
  },
  {
   "cell_type": "code",
   "execution_count": 2,
   "id": "f147f017-4ddd-49d2-b657-4295e70f3c44",
   "metadata": {},
   "outputs": [
    {
     "data": {
      "application/vnd.jupyter.widget-view+json": {
       "model_id": "f5873b01703d4c56bca102a981528522",
       "version_major": 2,
       "version_minor": 0
      },
      "text/plain": [
       "FileChooser(path='E:\\Projects\\2022\\github\\has\\HAS-decoding-main', filename='', title='', show_hidden=False, se…"
      ]
     },
     "metadata": {},
     "output_type": "display_data"
    }
   ],
   "source": [
    "fc = FileChooser()\n",
    "fc"
   ]
  },
  {
   "cell_type": "code",
   "execution_count": 3,
   "id": "0bacc627",
   "metadata": {},
   "outputs": [
    {
     "name": "stdout",
     "output_type": "stream",
     "text": [
      "E:\\Projects\\2022\\github\\has\\data\\SEPT267.sbf\n"
     ]
    }
   ],
   "source": [
    "filename = fc.selected\n",
    "print(filename)"
   ]
  },
  {
   "cell_type": "markdown",
   "id": "a12837e2-b4eb-4c63-a58f-a85ed7102fe4",
   "metadata": {},
   "source": [
    "### Set the file options ### "
   ]
  },
  {
   "cell_type": "code",
   "execution_count": 4,
   "id": "2a0976fa-ddfd-4ac2-b76c-bb5e3b8f488b",
   "metadata": {},
   "outputs": [
    {
     "data": {
      "application/vnd.jupyter.widget-view+json": {
       "model_id": "a236367b1a4746e7a64be22ef23956d3",
       "version_major": 2,
       "version_minor": 0
      },
      "text/plain": [
       "receiver_type_widget(children=(HTML(value='<B>Receiver type:</B>'), Dropdown(description='Rx Type:', options=(…"
      ]
     },
     "metadata": {},
     "output_type": "display_data"
    }
   ],
   "source": [
    "has_w = hw.receiver_type_widget()\n",
    "has_w"
   ]
  },
  {
   "cell_type": "markdown",
   "id": "b7a85082-0c3d-4f3d-8ff9-5b6ac4302c8d",
   "metadata": {},
   "source": [
    "### Finally parse the data ###"
   ]
  },
  {
   "cell_type": "code",
   "execution_count": 5,
   "id": "c690ea2a-9fb2-470a-af63-70081e46e300",
   "metadata": {},
   "outputs": [
    {
     "data": {
      "application/vnd.jupyter.widget-view+json": {
       "model_id": "991dfb8f7f4342028e9eee00c585c81e",
       "version_major": 2,
       "version_minor": 0
      },
      "text/plain": [
       "process_button_widget(children=(Button(description='Parse', icon='Initialize', style=ButtonStyle()),), layout=…"
      ]
     },
     "metadata": {},
     "output_type": "display_data"
    }
   ],
   "source": [
    "parse_button = hw.process_button_widget(filename, has_w.get_options())\n",
    "parse_button"
   ]
  },
  {
   "cell_type": "code",
   "execution_count": null,
   "id": "22f9fe2a-5c40-4313-9a96-5b2941f347a0",
   "metadata": {},
   "outputs": [],
   "source": []
  }
 ],
 "metadata": {
  "kernelspec": {
   "display_name": "Python 3 (ipykernel)",
   "language": "python",
   "name": "python3"
  },
  "language_info": {
   "codemirror_mode": {
    "name": "ipython",
    "version": 3
   },
   "file_extension": ".py",
   "mimetype": "text/x-python",
   "name": "python",
   "nbconvert_exporter": "python",
   "pygments_lexer": "ipython3",
   "version": "3.9.8"
  }
 },
 "nbformat": 4,
 "nbformat_minor": 5
}
